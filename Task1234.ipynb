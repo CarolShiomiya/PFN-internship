{
 "cells": [
  {
   "cell_type": "markdown",
   "metadata": {},
   "source": [
    "# 課題1\n",
    "\n",
    "\n",
    "この課題では、リスト[a,b,c](a,b,cは実数)は、縦ベクトル(x,y,z)を意味するものとする。\n",
    "また、入れ子になっているリスト[[a1,a2,a3],[b1,b2,b3],[c1,c2,c3]]は1行目が(a1,a2,a3),2行目が(b1,b2,b3),3行目が(c1,c2,c3)の行列を意味する。"
   ]
  },
  {
   "cell_type": "code",
   "execution_count": 1,
   "metadata": {},
   "outputs": [],
   "source": [
    "#関数wa(x,y)は同じ次元のベクトル同士の和x+yを出力する。\n",
    "def wa(x,y):\n",
    "    if len(x)==len(y):\n",
    "        xplusy=[]\n",
    "        for i in range(len(x)):\n",
    "            xplusy=xplusy+[x[i]+y[i]]\n",
    "        return xplusy\n",
    "    else:\n",
    "        return \"error\"\n",
    "\n",
    "#関数naiseki(x,y)は同じ次元のベクトル同士の内積x*yを出力する。\n",
    "def naiseki(x,y):\n",
    "    if len(x)==len(y):\n",
    "        dot=[]\n",
    "        for i in range(len(x)):\n",
    "            dot=dot+[x[i]*y[i]]\n",
    "        return sum(dot)\n",
    "    else:\n",
    "        return \"error\"\n",
    "\n",
    "#関数seki(A,x)は行列Aとベクトルxの積Axを出力する。    \n",
    "def seki(A,x):\n",
    "    if len(A[0])==len(x):\n",
    "        Akakex=[]\n",
    "        for i in range(len(A)):\n",
    "            Akakex=Akakex+[naiseki(A[i],x)]\n",
    "        return Akakex\n",
    "    else:\n",
    "        return \"error\"\n",
    "    \n",
    "#関数tenchi(A)は行列Aの転置行列を出力する。\n",
    "def tenchi(A):\n",
    "    Aten=[]\n",
    "    for i in range(len(A[0])):\n",
    "        add=[]\n",
    "        for j in range(len(A)):\n",
    "            add=add+[A[j][i]]\n",
    "        Aten=Aten+[add]\n",
    "    return Aten\n",
    "\n",
    "#ReLU関数 relu(v)\n",
    "def relu(v):\n",
    "    relu=list(map((lambda x:(x>0)*x),v))\n",
    "    return relu\n",
    "\n",
    "#ネイピア数の定義\n",
    "napier=2.718281828459045\n",
    "\n",
    "\n",
    "#実数の指数関数の定義\n",
    "def expo(r):\n",
    "    return napier**r\n",
    "\n",
    "#ソフトマックス関数\n",
    "def softmax(v):\n",
    "    expoed=list(map((lambda x: expo(x)),v))\n",
    "    exposum=sum(expoed)\n",
    "    softm=list(map((lambda x: x/exposum),expoed))\n",
    "    return softm"
   ]
  },
  {
   "cell_type": "code",
   "execution_count": 2,
   "metadata": {},
   "outputs": [
    {
     "name": "stdout",
     "output_type": "stream",
     "text": [
      "x+y\n",
      "[-1, 6, 4, 6]\n",
      "Ax\n",
      "[32, 52, 12]\n",
      "Aの転置行列\n",
      "[[1, -2, 1], [2, 3, 1], [3, 4, 1], [4, 5, 2]]\n",
      "relu(x)\n",
      "[0, 2, 5, 4]\n",
      "softmax(x)\n",
      "[0.0002365741617339265, 0.03511071870497591, 0.7052176369484495, 0.2594350701848407]\n"
     ]
    }
   ],
   "source": [
    "#課題1の部分テスト\n",
    "\n",
    "x=[-3,2,5,4]\n",
    "y=[2,4,-1,2]\n",
    "A=[[1,2,3,4],[-2,3,4,5],[1,1,1,2]]\n",
    "\n",
    "print('x+y')\n",
    "print(wa(x,y))\n",
    "print('Ax')\n",
    "print(seki(A,x))\n",
    "print('Aの転置行列')\n",
    "print(tenchi(A))\n",
    "print('relu(x)')\n",
    "print(relu(x))\n",
    "print('softmax(x)')\n",
    "print(softmax(x))"
   ]
  },
  {
   "cell_type": "markdown",
   "metadata": {},
   "source": [
    "# 課題2\n",
    "\n",
    "関数の定義"
   ]
  },
  {
   "cell_type": "code",
   "execution_count": 3,
   "metadata": {},
   "outputs": [],
   "source": [
    "#入力した番号のpgmファイルを読み込み、画像の値を左上から右方向に読み込み1024次元のベクトルとしたものを出力する関数pgm_to_vecを作成。\n",
    "def pgm_to_vec(filenum):\n",
    "    f = list(open('pgm/%d.pgm'%filenum, 'rb'))\n",
    "    vec=[]\n",
    "    for i in range(32):\n",
    "        row=f[3+i]\n",
    "        splt=row.split()\n",
    "        add=list(map((lambda x: int(x)/255),splt))\n",
    "        vec=vec+add\n",
    "    return vec"
   ]
  },
  {
   "cell_type": "code",
   "execution_count": 4,
   "metadata": {
    "scrolled": false
   },
   "outputs": [],
   "source": [
    "#ニューラルネットワークモデルのためのweight matrixやbias項ベクトルを作る\n",
    "\n",
    "#W1を作る\n",
    "W1=[]\n",
    "for i in range(256):\n",
    "    f=open(\"param.txt\")\n",
    "    add=list(f)[i].split()\n",
    "    add2=list(map((lambda x:float(x)),add))\n",
    "    W1=W1+[add2]\n",
    "\n",
    "#b1を作る\n",
    "f=open(\"param.txt\")\n",
    "vec=list(f)[256].split()\n",
    "b1=list(map((lambda x:float(x)),vec))\n",
    "\n",
    "#W2を作る\n",
    "W2=[]\n",
    "for i in range(256):\n",
    "    f=open(\"param.txt\")\n",
    "    add=list(f)[i+257].split()\n",
    "    add2=list(map((lambda x:float(x)),add))\n",
    "    W2=W2+[add2]\n",
    "\n",
    "#b2を作る\n",
    "f=open(\"param.txt\")\n",
    "vec=list(f)[513].split()\n",
    "b2=list(map((lambda x:float(x)),vec))\n",
    "\n",
    "#W3を作る\n",
    "W3=[]\n",
    "for i in range(23):\n",
    "    f=open(\"param.txt\")\n",
    "    add=list(f)[i+514].split()\n",
    "    add2=list(map((lambda x:float(x)),add))\n",
    "    W3=W3+[add2]\n",
    "\n",
    "#b3を作る\n",
    "f=open(\"param.txt\")\n",
    "vec=list(f)[537].split()\n",
    "b3=list(map((lambda x:float(x)),vec))\n",
    "\n",
    "#W2を作る\n",
    "W2=[]\n",
    "for i in range(256):\n",
    "    hoge=open(\"param.txt\")\n",
    "    huga=list(hoge)[i+257].split()\n",
    "    hugahuga=list(map((lambda x:float(x)),huga))\n",
    "    W2=W2+[hugahuga]\n",
    "\n",
    "#b2を作る\n",
    "hoge=open(\"param.txt\")\n",
    "huga=list(hoge)[513].split()\n",
    "b2=list(map((lambda x:float(x)),huga))\n",
    "\n",
    "#W3を作る\n",
    "W3=[]\n",
    "for i in range(23):\n",
    "    hoge=open(\"param.txt\")\n",
    "    huga=list(hoge)[i+514].split()\n",
    "    hugahuga=list(map((lambda x:float(x)),huga))\n",
    "    W3=W3+[hugahuga]\n",
    "\n",
    "#b3を作る\n",
    "hoge=open(\"param.txt\")\n",
    "huga=list(hoge)[537].split()\n",
    "b3=list(map((lambda x:float(x)),huga))\n",
    "\n",
    "#予測モデルを用いて予測を行う関数pred(num)を作成する。\n",
    "#画像ファイルの番号を入力すると、それがどれに分類されるかカテゴリ番号を出力する。\n",
    "def pred(num):\n",
    "    x=pgm_to_vec(num)\n",
    "    a1=wa(seki(W1,x),b1)\n",
    "    h1=relu(a1)\n",
    "    a2=wa(seki(W2,h1),b2)\n",
    "    h2=relu(a2)\n",
    "    y=wa(seki(W3,h2),b3)\n",
    "    out=softmax(y)\n",
    "    prediction=out.index(max(out))+1\n",
    "    return prediction"
   ]
  },
  {
   "cell_type": "markdown",
   "metadata": {},
   "source": [
    "ニューラルネットワークを用いてpgm画像の分類を予測する"
   ]
  },
  {
   "cell_type": "code",
   "execution_count": 5,
   "metadata": {},
   "outputs": [
    {
     "name": "stdout",
     "output_type": "stream",
     "text": [
      "正答率\n",
      "0.8376623376623377\n"
     ]
    }
   ],
   "source": [
    "#pred関数を使い予測した分類（prediction）とlabels.txtによる正解（correct_answer)を比較する。\n",
    "prediction=list(map((lambda x:pred(x)),list(range(1,155))))\n",
    "correct_answer=list(map((lambda x:int(x)),list(open(\"labels.txt\"))))\n",
    "\n",
    "#比較を行う\n",
    "correct_or_not=list(map((lambda x,y:x==y),prediction,correct_answer))\n",
    "#正答率を求める\n",
    "correct_rate=sum(correct_or_not)/len(correct_or_not)\n",
    "\n",
    "print(\"正答率\")\n",
    "print(correct_rate)\n",
    "\n",
    "#正答率は0.838。\n",
    "#以上、問2。"
   ]
  },
  {
   "cell_type": "markdown",
   "metadata": {},
   "source": [
    "# 課題3\n",
    "関数の定義"
   ]
  },
  {
   "cell_type": "code",
   "execution_count": 6,
   "metadata": {},
   "outputs": [],
   "source": [
    "#backward関数を定義する。\n",
    "def backward(v,w):\n",
    "    return list(map((lambda x,y:x*(y>0)),v,w))\n",
    "\n",
    "#sign関数を定義する。\n",
    "def sign(v):\n",
    "    return list(map((lambda x:-1+(x>0)*2),v))\n",
    "\n",
    "#画像番号を入力して、それにニューラルネットに入れた時に出力されるfを求める関数pred_fを定義する。\n",
    "def pred_f(num):\n",
    "    x=pgm_to_vec(num)\n",
    "    a1=wa(seki(W1,x),b1)\n",
    "    h1=relu(a1)\n",
    "    a2=wa(seki(W2,h1),b2)\n",
    "    h2=relu(a2)\n",
    "    y=wa(seki(W3,h2),b3)\n",
    "    out=softmax(y)\n",
    "    return out\n",
    "\n",
    "#num.pgm（numは自然数）にノイズを加えたベクトルx~を作り、それを最小0最大255の整数で書き直して出力する関数addnoise(num)を定義\n",
    "\n",
    "def addnoise(num):\n",
    "    #正解ラベルのみが-1でほかが0のベクトル-δを作る\n",
    "    x=pgm_to_vec(num)\n",
    "    a1=wa(seki(W1,x),b1)\n",
    "    h1=relu(a1)\n",
    "    a2=wa(seki(W2,h1),b2)\n",
    "    h2=relu(a2)\n",
    "    y=wa(seki(W3,h2),b3)\n",
    "    out=softmax(y)\n",
    "    \n",
    "    minus_delta=[0]*23\n",
    "    minus_delta[correct_answer[num-1]-1]=-1\n",
    "\n",
    "    #∇xLを求める\n",
    "    nab_y_l=wa(minus_delta,out)\n",
    "    nab_h2_l=seki(tenchi(W3),nab_y_l)\n",
    "    nab_a2_l=backward(nab_h2_l,a2)\n",
    "    nab_h1_l=seki(tenchi(W2),nab_a2_l)\n",
    "    nab_a1_l=backward(nab_h1_l,a1)\n",
    "    nab_x_l=seki(tenchi(W1),nab_a1_l)\n",
    "\n",
    "    #x~を求める。\n",
    "    eps_0=0.1\n",
    "    epsilon=list(map((lambda x:eps_0*x),sign(nab_x_l)))\n",
    "    x_tilda=wa(x,epsilon)\n",
    "    #これから下で、x~を正規化する前（最小0、最大255）に戻す\n",
    "    xmin=min(x_tilda)\n",
    "    xmax=max(x_tilda)\n",
    "    x_tilda2=list(map((lambda x:(x-xmin)*255/(xmax-xmin)),x_tilda))\n",
    "    x_tilda3=list(map((lambda x:int(x)),x_tilda2))\n",
    "    return x_tilda3\n",
    "\n",
    "#32*32次元のベクトルvecおよび新しいファイル番号bangouを入力すると、/problem3に画像ファイルを作成する関数vec_to_pgmを定義する。\n",
    "def vec_to_pgm(vec,bangou):\n",
    "    file = open('problem3/%i.pgm'%bangou, 'wb') \n",
    "    #pgmのヘッダ\n",
    "    mojiretu = 'P2' + '\\r\\n' + str(32) + ' ' + str(32) + '\\r\\n' + str(255) + '\\r\\n'\n",
    "    \n",
    "    #画像を左上から右に１行ずつ書き込んでいく\n",
    "    for i in range(32):\n",
    "        num = vec[i*32:(i+1)*32]\n",
    "        maped_num = map(str, num) \n",
    "        mojiretu = mojiretu+' '.join(maped_num)+'\\r\\n'\n",
    "    \n",
    "    res=file.write(mojiretu.encode('utf-8'))\n",
    "    file.close\n",
    "    return res\n",
    "\n"
   ]
  },
  {
   "cell_type": "markdown",
   "metadata": {},
   "source": [
    "pgmフォルダにある全てのpgm画像に摂動を与え、problem3/にpgm画像として書き出す。"
   ]
  },
  {
   "cell_type": "code",
   "execution_count": 23,
   "metadata": {},
   "outputs": [],
   "source": [
    "#全てのpgmに摂動を与えた画像を書き出す\n",
    "for i in range(154):\n",
    "    vec_to_pgm(addnoise(i+1),i+1)"
   ]
  },
  {
   "cell_type": "markdown",
   "metadata": {},
   "source": [
    "書き出した画像をニューラルネットワークによって分類する。"
   ]
  },
  {
   "cell_type": "code",
   "execution_count": 7,
   "metadata": {},
   "outputs": [
    {
     "name": "stdout",
     "output_type": "stream",
     "text": [
      "正答率\n",
      "0.012987012987012988\n"
     ]
    }
   ],
   "source": [
    "#入力した番号の摂動が入ったpgmファイルを読み込み、画像の値を左上から右方向に読み込み1024次元のベクトルとする。\n",
    "def noised_pgm_to_vec(filenum):\n",
    "    f = list(open('problem3/%d.pgm'%filenum, 'rb'))\n",
    "    vec=[]\n",
    "    for i in range(32):\n",
    "        row=f[3+i]\n",
    "        splt=row.split()\n",
    "        add=list(map((lambda x: int(x)/255),splt))\n",
    "        vec=vec+add\n",
    "    return vec\n",
    "\n",
    "#予測モデルを用いてノイズ入りの画像の分類を行う関数pred2(num)を作成する。\n",
    "#画像ファイルの番号を入力すると、それがどれに分類されるかカテゴリ番号を出力する。\n",
    "def pred2(num):\n",
    "    x=noised_pgm_to_vec(num)\n",
    "    a1=wa(seki(W1,x),b1)\n",
    "    h1=relu(a1)\n",
    "    a2=wa(seki(W2,h1),b2)\n",
    "    h2=relu(a2)\n",
    "    y=wa(seki(W3,h2),b3)\n",
    "    out=softmax(y)\n",
    "    prediction=out.index(max(out))+1\n",
    "    return prediction\n",
    "\n",
    "#pred関数を使い予測した分類（prediction）とlabels.txtによる正解（correct_answer)を比較する。\n",
    "prediction2=list(map((lambda x:pred2(x)),list(range(1,155))))\n",
    "correct_answer=list(map((lambda x:int(x)),list(open(\"labels.txt\"))))\n",
    "\n",
    "#比較を行う\n",
    "correct_or_not2=list(map((lambda x,y:x==y),prediction2,correct_answer))\n",
    "#正答率を求める\n",
    "correct_rate2=sum(correct_or_not2)/len(correct_or_not2)\n",
    "\n",
    "print(\"正答率\")\n",
    "print(correct_rate2)\n",
    "\n",
    "#正答率は0.013"
   ]
  },
  {
   "cell_type": "markdown",
   "metadata": {},
   "source": [
    "ここからは、元のpgm画像にランダムな摂動を加える対照実験を行う。\n",
    "まずは関数を定義する。"
   ]
  },
  {
   "cell_type": "code",
   "execution_count": 8,
   "metadata": {},
   "outputs": [],
   "source": [
    "#元の画像にランダムなノイズを加える\n",
    "import random\n",
    "randvec=[]\n",
    "for i in range(32*32):\n",
    "    randvec=randvec+[random.randrange(2)*2-1]\n",
    "\n",
    "#num.pgm（numは自然数）にノイズを加えたベクトルx~を作り、それを最小0最大255の整数で書き直す。\n",
    "def addnoise_rnd(num):\n",
    "    x=pgm_to_vec(num)\n",
    "    #ランダムなノイズを加えたx~を求める。\n",
    "    eps_0=0.1\n",
    "    epsilon=list(map((lambda x:eps_0*x),randvec))\n",
    "    x_tilda=wa(x,epsilon)\n",
    "    #これから下で、x~を正規化する前（最小0、最大255）に戻す\n",
    "    xmin=min(x_tilda)\n",
    "    xmax=max(x_tilda)\n",
    "    x_tilda2=list(map((lambda x:(x-xmin)*255/(xmax-xmin)),x_tilda))\n",
    "    x_tilda3=list(map((lambda x:int(x)),x_tilda2))\n",
    "    return x_tilda3\n",
    "\n",
    "#addnoiseで作ったベクトルvecおよび新しいファイル番号bangouを入力すると、/noisedにnoisedbangou.pgmという画像を作成する。\n",
    "#ただし、この画像は入力するベクトルvecを32×32のpgm画像にしたものである。\n",
    "def vec_to_pgm_rnd(vec,bangou):\n",
    "    file = open('problem3_2/%i.pgm'%bangou, 'wb') \n",
    "    #pgmのヘッダ\n",
    "    mojiretu = 'P2' + '\\r\\n' + str(32) + ' ' + str(32) + '\\r\\n' + str(255) + '\\r\\n'\n",
    "    \n",
    "    #画像を左上から右に１行ずつ書き込んでいく\n",
    "    for i in range(32):\n",
    "        num = vec[i*32:(i+1)*32]\n",
    "        maped_num = map(str, num) \n",
    "        mojiretu = mojiretu+' '.join(maped_num)+'\\r\\n'\n",
    "    \n",
    "    res=file.write(mojiretu.encode('utf-8'))\n",
    "    file.close\n",
    "    return res\n",
    "\n",
    "\n"
   ]
  },
  {
   "cell_type": "markdown",
   "metadata": {},
   "source": [
    "pgmフォルダにある全てのpgm画像にランダムな摂動を与え、pgm画像としてproblem3_2/に書き出す。"
   ]
  },
  {
   "cell_type": "code",
   "execution_count": null,
   "metadata": {},
   "outputs": [],
   "source": [
    "#全てのpgmにランダムなノイズを加えた画像を書き出す\n",
    "for i in range(154):\n",
    "    vec_to_pgm_rnd(addnoise_rnd(i+1),i+1)"
   ]
  },
  {
   "cell_type": "markdown",
   "metadata": {},
   "source": [
    "書き出した画像をニューラルネットワークによって分類する。"
   ]
  },
  {
   "cell_type": "code",
   "execution_count": 9,
   "metadata": {},
   "outputs": [
    {
     "name": "stdout",
     "output_type": "stream",
     "text": [
      "正答率\n",
      "0.8116883116883117\n"
     ]
    }
   ],
   "source": [
    "#入力した番号のノイズが入ったpgmファイルを読み込み、画像の値を左上から右方向に読み込み1024次元のベクトルとする。\n",
    "def rndnoised_pgm_to_vec(filenum):\n",
    "    f = list(open('problem3_2/%d.pgm'%filenum, 'rb'))\n",
    "    vec=[]\n",
    "    for i in range(32):\n",
    "        row=f[3+i]\n",
    "        splt=row.split()\n",
    "        add=list(map((lambda x: int(x)/255),splt))\n",
    "        vec=vec+add\n",
    "    return vec\n",
    "\n",
    "#予測モデルを用いてノイズ入りの画像の分類を行う関数pred2(num)を作成する。\n",
    "#画像ファイルの番号を入力すると、それがどれに分類されるかカテゴリ番号を出力する。\n",
    "def pred3(num):\n",
    "    x=rndnoised_pgm_to_vec(num)\n",
    "    a1=wa(seki(W1,x),b1)\n",
    "    h1=relu(a1)\n",
    "    a2=wa(seki(W2,h1),b2)\n",
    "    h2=relu(a2)\n",
    "    y=wa(seki(W3,h2),b3)\n",
    "    out=softmax(y)\n",
    "    prediction=out.index(max(out))+1\n",
    "    return prediction\n",
    "\n",
    "#pred関数を使い予測した分類（prediction）とlabels.txtによる正解（correct_answer)を比較する。\n",
    "prediction3=list(map((lambda x:pred3(x)),list(range(1,155))))\n",
    "correct_answer=list(map((lambda x:int(x)),list(open(\"labels.txt\"))))\n",
    "\n",
    "#比較を行う\n",
    "correct_or_not3=list(map((lambda x,y:x==y),prediction3,correct_answer))\n",
    "#正答率を求める\n",
    "correct_rate3=sum(correct_or_not3)/len(correct_or_not3)\n",
    "print(\"正答率\")\n",
    "print(correct_rate3)\n",
    "\n",
    "#正答率は0.81"
   ]
  },
  {
   "cell_type": "markdown",
   "metadata": {},
   "source": [
    "# 課題4（二値化による防御と攻撃）\n",
    "\n",
    "まずは、読み込んだ画像を2値化したベクトルとする関数を定義する。"
   ]
  },
  {
   "cell_type": "code",
   "execution_count": 10,
   "metadata": {},
   "outputs": [],
   "source": [
    "#入力した番号のフォルダにある、入力した番号のpgmファイルを読み込み、画像の値を左上から右方向に読み込み,2値化して1024次元のベクトルとする。\n",
    "#２値化の閾値は129で、129以上の画素値を持つピクセルは画素値を255、128以下の画素値を持つピクセルは画素値を0としてベクトル化する。\n",
    "def binary_pgm_to_vec(foldernum,filenum):\n",
    "    f = list(open('problem4_%d/%d.pgm'%(foldernum,filenum), 'rb'))\n",
    "    vec=[]\n",
    "    for i in range(32):\n",
    "        row=f[3+i]\n",
    "        splt=row.split()\n",
    "        add=list(map((lambda x: 1*(int(x)>128)),splt))\n",
    "        vec=vec+add\n",
    "    return vec\n",
    "\n",
    "#画像を2値化したあと、ニューラルネットワーク予測モデルを用いて画像の分類を行う関数pred4を作成する。\n",
    "#フォルダ番号と画像ファイルの番号を入力すると、それがどれに分類されるかカテゴリ番号を出力する。\n",
    "def pred4(foldernum,filenum):\n",
    "    x=binary_pgm_to_vec(foldernum,filenum)\n",
    "    a1=wa(seki(W1,x),b1)\n",
    "    h1=relu(a1)\n",
    "    a2=wa(seki(W2,h1),b2)\n",
    "    h2=relu(a2)\n",
    "    y=wa(seki(W3,h2),b3)\n",
    "    out=softmax(y)\n",
    "    prediction=out.index(max(out))+1\n",
    "    return prediction\n",
    "\n",
    "#pred4関数を使い予測した分類（prediction）とlabels.txtによる正解（correct_answer)を比較する。\n",
    "#folder番号を入力値として、そのフォルダ内の画像をニューラルネットワークを用いて分類し、答え合わせをし、正答率を出力する。\n",
    "def cor_rate4(foldernum):\n",
    "    prediction4=list(map((lambda x:pred4(foldernum,x)),list(range(1,155))))\n",
    "    correct_answer=list(map((lambda x:int(x)),list(open(\"labels.txt\"))))\n",
    "    #比較を行う\n",
    "    correct_or_not4=list(map((lambda x,y:x==y),prediction4,correct_answer))\n",
    "    #正答率を求める\n",
    "    correct_rate4=sum(correct_or_not4)/len(correct_or_not4)\n",
    "    return correct_rate4"
   ]
  },
  {
   "cell_type": "markdown",
   "metadata": {},
   "source": [
    "## レポートの4.2の攻撃方法のコード"
   ]
  },
  {
   "cell_type": "code",
   "execution_count": 11,
   "metadata": {},
   "outputs": [],
   "source": [
    "#num.pgmにクロスエントロピー誤差関数の偏導関数がthreshold以下であるピクセルの画素値を122（2値化すると黒になる）にしたベクトルを出力する。\n",
    "def add_binary_noise(num,threshold):\n",
    "    #正解ラベルのみが-1でほかが0のベクトル-δを作る\n",
    "    x=pgm_to_vec(num)\n",
    "    a1=wa(seki(W1,x),b1)\n",
    "    h1=relu(a1)\n",
    "    a2=wa(seki(W2,h1),b2)\n",
    "    h2=relu(a2)\n",
    "    y=wa(seki(W3,h2),b3)\n",
    "    out=softmax(y)\n",
    "    \n",
    "    minus_delta=[0]*23\n",
    "    minus_delta[correct_answer[num-1]-1]=-1\n",
    "\n",
    "    #∇xLを求める\n",
    "    nab_y_l=wa(minus_delta,out)\n",
    "    nab_h2_l=seki(tenchi(W3),nab_y_l)\n",
    "    nab_a2_l=backward(nab_h2_l,a2)\n",
    "    nab_h1_l=seki(tenchi(W2),nab_a2_l)\n",
    "    nab_a1_l=backward(nab_h1_l,a1)\n",
    "    nab_x_l=seki(tenchi(W1),nab_a1_l)\n",
    "    #x~を求める。nab_x_lが小さければ小さいほど、xの入力を小さくしたときにクロスエントロピー誤差が大きくなる（間違いやすくなる）ということなので、\n",
    "    #nab_x_lがthresholdより小さい画素に絞って値を0（画像で言うと黒）にしていく。\n",
    "    #thresholdが大きすぎると該当する画素が多くなりすぎ、人間にも違和感を持たれてしまう。\n",
    "    #かといってthresholdが小さすぎると該当する画素が少なくなりすぎ、ニューラルネットを誤魔化すことができなくなってしまう。\n",
    "    x_tilda=list(map((lambda x,y:min(x,0.48+1*(y>threshold))),x,nab_x_l))\n",
    "    #x_tilda=list(map((lambda x,y:eps_0*x),x,sign(nab_x_l)))\n",
    "    #これから下で、x~を正規化する前（最小0、最大255）に戻す\n",
    "    xmin=min(x_tilda)\n",
    "    xmax=max(x_tilda)\n",
    "    x_tilda2=list(map((lambda x:(x-xmin)*255/(xmax-xmin)),x_tilda))\n",
    "    x_tilda3=list(map((lambda x:int(x)),x_tilda2))\n",
    "    return x_tilda3\n",
    "\n",
    "#与えられた画素ベクトルを指定されたフォルダ番号に、指定されたファイル番号で書き込んでいく。\n",
    "def vec_to_pgm_binary(vec,folder,bangou):\n",
    "    file = open('problem4_%i/%i.pgm'%(folder,bangou), 'wb') \n",
    "    #pgmのヘッダ\n",
    "    mojiretu = 'P2' + '\\r\\n' + str(32) + ' ' + str(32) + '\\r\\n' + str(255) + '\\r\\n'\n",
    "    \n",
    "    #画像を左上から右に１行ずつ書き込んでいく\n",
    "    for i in range(32):\n",
    "        num = vec[i*32:(i+1)*32]\n",
    "        maped_num = map(str, num) \n",
    "        mojiretu = mojiretu+' '.join(maped_num)+'\\r\\n'\n",
    "    \n",
    "    res=file.write(mojiretu.encode('utf-8'))\n",
    "    file.close\n",
    "    return res\n"
   ]
  },
  {
   "cell_type": "markdown",
   "metadata": {},
   "source": [
    "クロスエントロピー誤差関数の偏導関数の閾値を-0.0002にして摂動を加えた画像をproblem4_1/に、\n",
    "\n",
    "クロスエントロピー誤差関数の偏導関数の閾値を-0.0004にして摂動を加えた画像をproblem4_2/に、\n",
    "\n",
    "クロスエントロピー誤差関数の偏導関数の閾値を-0.0008にして摂動を加えた画像をproblem4_3/に、\n",
    "\n",
    "クロスエントロピー誤差関数の偏導関数の閾値を-0.0012にして摂動を加えた画像をproblem4_4/に書き出す。"
   ]
  },
  {
   "cell_type": "code",
   "execution_count": 43,
   "metadata": {
    "scrolled": true
   },
   "outputs": [],
   "source": [
    "for i in range(154):\n",
    "    vec_to_pgm_binary(add_binary_noise(i+1,-0.0002),1,i+1)\n",
    "for i in range(154):\n",
    "    vec_to_pgm_binary(add_binary_noise(i+1,-0.0004),2,i+1)\n",
    "for i in range(154):\n",
    "    vec_to_pgm_binary(add_binary_noise(i+1,-0.0008),3,i+1)\n",
    "for i in range(154):\n",
    "    vec_to_pgm_binary(add_binary_noise(i+1,-0.0012),4,i+1)"
   ]
  },
  {
   "cell_type": "markdown",
   "metadata": {},
   "source": [
    "この方法で摂動を加えた画像を2値化してニューラルネットワークに入力して分類し、正答率を求める。"
   ]
  },
  {
   "cell_type": "code",
   "execution_count": 86,
   "metadata": {
    "scrolled": true
   },
   "outputs": [
    {
     "name": "stdout",
     "output_type": "stream",
     "text": [
      "閾値を-0.0002にして摂動を加えた画像の分類の正答率\n",
      "0.11038961038961038\n",
      "閾値を-0.0004にして摂動を加えた画像の分類の正答率\n",
      "0.14935064935064934\n",
      "閾値を-0.0008にして摂動を加えた画像の分類の正答率\n",
      "0.2012987012987013\n",
      "閾値を-0.0012にして摂動を加えた画像の分類の正答率\n",
      "0.2532467532467532\n"
     ]
    }
   ],
   "source": [
    "#pred4関数を使い予測した分類（prediction）とlabels.txtによる正解（correct_answer)を比較する。\n",
    "#folder番号を入力値として、そのフォルダ内の画像をニューラルネットワークを用いて分類し、答え合わせをし、正答率を出力する。\n",
    "def cor_rate4(foldernum):\n",
    "    prediction4=list(map((lambda x:pred4(foldernum,x)),list(range(1,155))))\n",
    "    correct_answer=list(map((lambda x:int(x)),list(open(\"labels.txt\"))))\n",
    "    #比較を行う\n",
    "    correct_or_not4=list(map((lambda x,y:x==y),prediction4,correct_answer))\n",
    "    #正答率を求める\n",
    "    correct_rate4=sum(correct_or_not4)/len(correct_or_not4)\n",
    "    return correct_rate4\n",
    "\n",
    "print('閾値を-0.0002にして摂動を加えた画像の分類の正答率')\n",
    "print(cor_rate4(1))\n",
    "print('閾値を-0.0004にして摂動を加えた画像の分類の正答率')\n",
    "print(cor_rate4(2))\n",
    "print('閾値を-0.0008にして摂動を加えた画像の分類の正答率')\n",
    "print(cor_rate4(3))\n",
    "print('閾値を-0.0012にして摂動を加えた画像の分類の正答率')\n",
    "print(cor_rate4(4))"
   ]
  },
  {
   "cell_type": "markdown",
   "metadata": {},
   "source": [
    "## レポートの4.3の攻撃方法のコード"
   ]
  },
  {
   "cell_type": "code",
   "execution_count": 84,
   "metadata": {},
   "outputs": [],
   "source": [
    "#ベクトルと自然数nを入力すると、ベクトルの下から数えてn番目の数を出力する関数\n",
    "def lowest(vec,n):\n",
    "    sortv=sorted(vec)\n",
    "    return max(sortv[:n])\n",
    "\n",
    "#今度は閾値を用いて黒くするピクセルを決定するのではなく、あらかじめ黒くするピクセルの数を決めておく\n",
    "#num.pgmにクロスエントロピー誤差関数の偏導関数が最も小さいピクセルnum2個の画素値を122（2値化すると黒になる）にしたベクトルを出力する。\n",
    "def add_binary_noise2(num,num2):\n",
    "    #正解ラベルのみが-1でほかが0のベクトル-δを作る\n",
    "    x=pgm_to_vec(num)\n",
    "    a1=wa(seki(W1,x),b1)\n",
    "    h1=relu(a1)\n",
    "    a2=wa(seki(W2,h1),b2)\n",
    "    h2=relu(a2)\n",
    "    y=wa(seki(W3,h2),b3)\n",
    "    out=softmax(y)\n",
    "    \n",
    "    minus_delta=[0]*23\n",
    "    minus_delta[correct_answer[num-1]-1]=-1\n",
    "\n",
    "    #∇xLを求める\n",
    "    nab_y_l=wa(minus_delta,out)\n",
    "    nab_h2_l=seki(tenchi(W3),nab_y_l)\n",
    "    nab_a2_l=backward(nab_h2_l,a2)\n",
    "    nab_h1_l=seki(tenchi(W2),nab_a2_l)\n",
    "    nab_a1_l=backward(nab_h1_l,a1)\n",
    "    nab_x_l=seki(tenchi(W1),nab_a1_l)\n",
    "    threshold=lowest(nab_x_l,num2)\n",
    "    #x~を求める。nab_x_lが小さければ小さいほど、xの入力を小さくしたときにクロスエントロピー誤差が大きくなる（間違いやすくなる）ということなので、\n",
    "    #nab_x_lがthresholdより小さい画素に絞って値を0（画像で言うと黒）にしていく。\n",
    "    x_tilda=list(map((lambda x,y:min(x,0.48+1*(y>threshold))),x,nab_x_l))\n",
    "    \n",
    "    #これから下で、x~を正規化する前（最小0、最大255）に戻す\n",
    "    xmin=min(x_tilda)\n",
    "    xmax=max(x_tilda)\n",
    "    x_tilda2=list(map((lambda x:(x-xmin)*255/(xmax-xmin)),x_tilda))\n",
    "    x_tilda3=list(map((lambda x:int(x)),x_tilda2))\n",
    "    return x_tilda3\n"
   ]
  },
  {
   "cell_type": "markdown",
   "metadata": {},
   "source": [
    "クロスエントロピー誤差関数の偏導関数が小さいピクセル100個を黒くした画像をproblem4_5/に、\n",
    "\n",
    "クロスエントロピー誤差関数の偏導関数が小さいピクセル50個を黒くした画像をproblem4_6/に、\n",
    "\n",
    "クロスエントロピー誤差関数の偏導関数が小さいピクセル30個を黒くした画像をproblem4_7/に、\n",
    "\n",
    "クロスエントロピー誤差関数の偏導関数が小さいピクセル15個を黒くした画像をproblem4_8/に書き出す。\n"
   ]
  },
  {
   "cell_type": "code",
   "execution_count": null,
   "metadata": {},
   "outputs": [],
   "source": [
    "for i in range(154):\n",
    "    vec_to_pgm_binary(add_binary_noise2(i+1,100),5,i+1)\n",
    "for i in range(154):\n",
    "    vec_to_pgm_binary(add_binary_noise2(i+1,50),6,i+1)\n",
    "for i in range(154):\n",
    "    vec_to_pgm_binary(add_binary_noise2(i+1,30),7,i+1)\n",
    "for i in range(154):\n",
    "    vec_to_pgm_binary(add_binary_noise2(i+1,15),8,i+1)"
   ]
  },
  {
   "cell_type": "markdown",
   "metadata": {},
   "source": [
    "この方法で摂動を加えた画像を2値化してニューラルネットワークに入力して分類する。"
   ]
  },
  {
   "cell_type": "code",
   "execution_count": 87,
   "metadata": {},
   "outputs": [
    {
     "name": "stdout",
     "output_type": "stream",
     "text": [
      "偏導関数が小さいピクセル100個を黒くした画像の分類の正答率\n",
      "0.0\n",
      "偏導関数が小さいピクセル50個を黒くした画像の分類の正答率\n",
      "0.0\n",
      "偏導関数が小さいピクセル30個を黒くした画像の分類の正答率\n",
      "0.045454545454545456\n",
      "偏導関数が小さいピクセル15個を黒くした画像の分類の正答率\n",
      "0.2987012987012987\n"
     ]
    }
   ],
   "source": [
    "print('偏導関数が小さいピクセル100個を黒くした画像の分類の正答率')\n",
    "print(cor_rate4(5))\n",
    "print('偏導関数が小さいピクセル50個を黒くした画像の分類の正答率')\n",
    "print(cor_rate4(6))\n",
    "print('偏導関数が小さいピクセル30個を黒くした画像の分類の正答率')\n",
    "print(cor_rate4(7))\n",
    "print('偏導関数が小さいピクセル15個を黒くした画像の分類の正答率')\n",
    "print(cor_rate4(8))"
   ]
  },
  {
   "cell_type": "markdown",
   "metadata": {},
   "source": [
    "## 課題への回答は以上です。"
   ]
  }
 ],
 "metadata": {
  "kernelspec": {
   "display_name": "Python 3",
   "language": "python",
   "name": "python3"
  },
  "language_info": {
   "codemirror_mode": {
    "name": "ipython",
    "version": 3
   },
   "file_extension": ".py",
   "mimetype": "text/x-python",
   "name": "python",
   "nbconvert_exporter": "python",
   "pygments_lexer": "ipython3",
   "version": "3.6.3"
  }
 },
 "nbformat": 4,
 "nbformat_minor": 2
}
